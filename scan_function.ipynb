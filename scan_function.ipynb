{
 "cells": [
  {
   "cell_type": "code",
   "execution_count": 9,
   "metadata": {},
   "outputs": [
    {
     "name": "stdout",
     "output_type": "stream",
     "text": [
      "PDF НЕ является сканированным изображением.\n",
      "PDF является сканированным изображением.\n"
     ]
    }
   ],
   "source": [
    "import PyPDF2\n",
    "\n",
    "def is_scanned_pdf(file_path):\n",
    "    with open(file_path, \"rb\") as file:\n",
    "        reader = PyPDF2.PdfReader(file)\n",
    "        \n",
    "        for page_num in range(len(reader.pages)):\n",
    "            page = reader.pages[page_num]\n",
    "            text = page.extract_text()\n",
    "            if text and text.strip():\n",
    "                return False\n",
    "    return True\n",
    "\n",
    "\n",
    "\n",
    "# Не скан\n",
    "\n",
    "# file_path1 = \".\\Данные Хакатон ИТМО\\СанПиН 2.2.1.pdf\"\n",
    "# if is_scanned_pdf(file_path1):\n",
    "#     print(\"PDF является сканированным изображением.\")\n",
    "# else:\n",
    "#     print(\"PDF НЕ является сканированным изображением.\")\n",
    "\n",
    "\n",
    "# Скан\n",
    "\n",
    "# file_path2 = \".\\Данные Хакатон ИТМО\\СП 52.13330.2016.pdf\"\n",
    "# if is_scanned_pdf(file_path2):\n",
    "#     print(\"PDF является сканированным изображением.\")\n",
    "# else:\n",
    "#     print(\"PDF НЕ является сканированным изображением.\")"
   ]
  },
  {
   "cell_type": "code",
   "execution_count": null,
   "metadata": {},
   "outputs": [],
   "source": []
  }
 ],
 "metadata": {
  "kernelspec": {
   "display_name": "venv",
   "language": "python",
   "name": "python3"
  },
  "language_info": {
   "codemirror_mode": {
    "name": "ipython",
    "version": 3
   },
   "file_extension": ".py",
   "mimetype": "text/x-python",
   "name": "python",
   "nbconvert_exporter": "python",
   "pygments_lexer": "ipython3",
   "version": "3.11.1"
  }
 },
 "nbformat": 4,
 "nbformat_minor": 2
}
