{
 "cells": [
  {
   "cell_type": "code",
   "execution_count": 1,
   "metadata": {},
   "outputs": [],
   "source": [
    "import os\n",
    "import PyPDF2\n",
    "import json"
   ]
  },
  {
   "cell_type": "code",
   "execution_count": null,
   "metadata": {},
   "outputs": [],
   "source": [
    "class PDFParser:\n",
    "    def __init__(self, file_path):\n",
    "        self.file_path = file_path\n",
    "        self.file_name = os.path.basename(file_path)\n",
    "    \n",
    "    def is_scanned_pdf(self):\n",
    "        with open(self.file_path, \"rb\") as file:\n",
    "            reader = PyPDF2.PdfReader(file)\n",
    "            for page_num in range(len(reader.pages)):\n",
    "                page = reader.pages[page_num]\n",
    "                text = page.extract_text()\n",
    "                if text and text.strip():\n",
    "                    return False  \n",
    "        return True\n",
    "\n",
    "    def parse_page_to_json(self, page_number):\n",
    "        with open(self.file_path, \"rb\") as file:\n",
    "            reader = PyPDF2.PdfReader(file)\n",
    "            \n",
    "            if page_number < 1 or page_number > len(reader.pages):\n",
    "                raise ValueError(f\"Page number {page_number} is out of range.\")\n",
    "            \n",
    "            page = reader.pages[page_number - 1]\n",
    "            text = page.extract_text()\n",
    "\n",
    "            if text and text.strip():\n",
    "                page_data = {\n",
    "                    \"raw_text\": text.strip(),\n",
    "                    \"file_path\": self.file_path,\n",
    "                    \"doc_type\": \"text\",\n",
    "                    \"filename\": self.file_name,\n",
    "                    \"page_number\": page_number\n",
    "                }\n",
    "                return page_data\n",
    "            else:\n",
    "                return {}"
   ]
  },
  {
   "cell_type": "code",
   "execution_count": null,
   "metadata": {},
   "outputs": [],
   "source": [
    "if __name__ == \"__main__\":\n",
    "    \n",
    "    file_path = \".\\Данные Хакатон ИТМО\\ГОСТ 5781-82.pdf\"\n",
    "    parser = PDFParser(file_path)\n",
    "\n",
    "    if parser.is_scanned_pdf():\n",
    "        print(\"The PDF is scanned.\")\n",
    "    else:\n",
    "        print(\"The PDF contains text.\")\n",
    "\n",
    "    page_number = 8\n",
    "    page_data = parser.parse_page_to_json(page_number)\n",
    "    print(json.dumps(page_data, indent=4, ensure_ascii=False))"
   ]
  }
 ],
 "metadata": {
  "kernelspec": {
   "display_name": "venv",
   "language": "python",
   "name": "python3"
  },
  "language_info": {
   "codemirror_mode": {
    "name": "ipython",
    "version": 3
   },
   "file_extension": ".py",
   "mimetype": "text/x-python",
   "name": "python",
   "nbconvert_exporter": "python",
   "pygments_lexer": "ipython3",
   "version": "3.11.1"
  }
 },
 "nbformat": 4,
 "nbformat_minor": 2
}
